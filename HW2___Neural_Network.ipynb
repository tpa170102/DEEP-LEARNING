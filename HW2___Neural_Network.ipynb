{
  "cells": [
    {
      "cell_type": "code",
      "execution_count": 1,
      "id": "1aa7f529",
      "metadata": {
        "id": "1aa7f529"
      },
      "outputs": [],
      "source": [
        "import torch\n",
        "import torch.nn as nn\n",
        "import torch.optim as optim\n",
        "from torchvision import datasets, transforms\n",
        "import matplotlib.pyplot as plt\n",
        "import numpy as np"
      ]
    },
    {
      "cell_type": "markdown",
      "id": "4d593e21",
      "metadata": {
        "id": "4d593e21"
      },
      "source": [
        "# Ex 1"
      ]
    },
    {
      "cell_type": "code",
      "execution_count": null,
      "id": "fd78e1e0",
      "metadata": {
        "id": "fd78e1e0"
      },
      "outputs": [],
      "source": [
        "x_train = torch.tensor([[0, 0], [0, 1], [1, 0], [1, 1]], dtype=torch.float32)\n",
        "y_train = torch.tensor([[0], [1], [1], [0]], dtype=torch.float32)"
      ]
    },
    {
      "cell_type": "code",
      "execution_count": null,
      "id": "d526b327",
      "metadata": {
        "id": "d526b327"
      },
      "outputs": [],
      "source": [
        "#define parameters\n",
        "input_size = 2\n",
        "hidden_size = 2\n",
        "output_size = 1\n",
        "learning_rate = 0.1\n",
        "num_epochs = 10000"
      ]
    },
    {
      "cell_type": "code",
      "execution_count": null,
      "id": "3d52b839",
      "metadata": {
        "id": "3d52b839"
      },
      "outputs": [],
      "source": [
        "#define weights and biases\n",
        "w1 = torch.randn(input_size, hidden_size, dtype=torch.float32, requires_grad=True)\n",
        "b1 = torch.randn(hidden_size, dtype=torch.float32, requires_grad=True)\n",
        "w2 = torch.randn(hidden_size, output_size, dtype=torch.float32, requires_grad=True)\n",
        "b2 = torch.randn(output_size, dtype=torch.float32, requires_grad=True)"
      ]
    },
    {
      "cell_type": "code",
      "execution_count": 10,
      "id": "11892e88",
      "metadata": {
        "id": "11892e88"
      },
      "outputs": [],
      "source": [
        "def sigmoid(x, derivative=False):\n",
        "    if derivative:\n",
        "        return (torch.exp(-x))/((torch.exp(-x)+1)**2)\n",
        "    return 1/(1 + torch.exp(-x))"
      ]
    },
    {
      "cell_type": "code",
      "execution_count": null,
      "id": "7149852b",
      "metadata": {
        "colab": {
          "base_uri": "https://localhost:8080/"
        },
        "id": "7149852b",
        "outputId": "654bb3e7-31c6-4945-8f08-9fe703e4a28a"
      },
      "outputs": [
        {
          "output_type": "stream",
          "name": "stdout",
          "text": [
            "Epoch [1000/10000], Loss: 0.0631\n",
            "Epoch [2000/10000], Loss: 0.0280\n",
            "Epoch [3000/10000], Loss: 0.0164\n",
            "Epoch [4000/10000], Loss: 0.0113\n",
            "Epoch [5000/10000], Loss: 0.0084\n",
            "Epoch [6000/10000], Loss: 0.0067\n",
            "Epoch [7000/10000], Loss: 0.0055\n",
            "Epoch [8000/10000], Loss: 0.0047\n",
            "Epoch [9000/10000], Loss: 0.0040\n",
            "Epoch [10000/10000], Loss: 0.0035\n"
          ]
        }
      ],
      "source": [
        "for epoch in range(num_epochs):\n",
        "    z1 = torch.matmul(x_train, w1) + b1\n",
        "    a1 = sigmoid(z1)\n",
        "    z2 = torch.matmul(a1, w2) + b2\n",
        "    a2 = sigmoid(z2)\n",
        "\n",
        "    # Compute loss (MSE loss)\n",
        "    loss = ((a2 - y_train) ** 2).mean()\n",
        "\n",
        "    # Backward pass\n",
        "    loss.backward()\n",
        "\n",
        "    # Update weights and biases using gradient descent\n",
        "    with torch.no_grad():\n",
        "        w1 -= learning_rate * w1.grad\n",
        "        b1 -= learning_rate * b1.grad\n",
        "        w2 -= learning_rate * w2.grad\n",
        "        b2 -= learning_rate * b2.grad\n",
        "\n",
        "        # Reset gradients to zero\n",
        "        w1.grad.zero_()\n",
        "        b1.grad.zero_()\n",
        "        w2.grad.zero_()\n",
        "        b2.grad.zero_()\n",
        "\n",
        "    if (epoch + 1) % 1000 == 0:\n",
        "        print(f'Epoch [{epoch+1}/{num_epochs}], Loss: {loss.item():.4f}')"
      ]
    },
    {
      "cell_type": "code",
      "execution_count": null,
      "id": "0fababe2",
      "metadata": {
        "colab": {
          "base_uri": "https://localhost:8080/"
        },
        "id": "0fababe2",
        "outputId": "6cb0cb76-65c7-4710-d7dc-8a0dd3b42d68"
      },
      "outputs": [
        {
          "output_type": "stream",
          "name": "stdout",
          "text": [
            "Predicted: tensor([0., 1., 1., 0.])\n"
          ]
        }
      ],
      "source": [
        "with torch.no_grad():\n",
        "    z1 = torch.matmul(x_train, w1) + b1\n",
        "    a1 = torch.sigmoid(z1)\n",
        "    z2 = torch.matmul(a1, w2) + b2\n",
        "    predicted = torch.round(torch.sigmoid(z2))\n",
        "    print(f'Predicted: {predicted.flatten()}')"
      ]
    },
    {
      "cell_type": "markdown",
      "id": "25159ef0",
      "metadata": {
        "id": "25159ef0"
      },
      "source": [
        "# Ex 2"
      ]
    },
    {
      "cell_type": "markdown",
      "source": [
        "## Implement neural network with MNIST dataset"
      ],
      "metadata": {
        "id": "vIB-SBRThHKd"
      },
      "id": "vIB-SBRThHKd"
    },
    {
      "cell_type": "code",
      "execution_count": 2,
      "id": "dc15f867",
      "metadata": {
        "colab": {
          "base_uri": "https://localhost:8080/"
        },
        "id": "dc15f867",
        "outputId": "33524890-c3ce-45f8-9c24-2979117fd110"
      },
      "outputs": [
        {
          "output_type": "execute_result",
          "data": {
            "text/plain": [
              "<torch._C.Generator at 0x7d4801a4bb70>"
            ]
          },
          "metadata": {},
          "execution_count": 2
        }
      ],
      "source": [
        "torch.manual_seed(42)"
      ]
    },
    {
      "cell_type": "code",
      "execution_count": 3,
      "id": "e845d503",
      "metadata": {
        "id": "e845d503"
      },
      "outputs": [],
      "source": [
        "class NeuralNetwork(nn.Module):\n",
        "    def __init__(self):\n",
        "        super(NeuralNetwork, self).__init__()\n",
        "        self.fc1 = nn.Linear(784, 256) #28x28 pixel images flattened to a vector of length 784\n",
        "        self.fc2 = nn.Linear(256, 128)\n",
        "        self.fc3 = nn.Linear(128, 10) # final output is 10 digits 0-9\n",
        "\n",
        "    def forward(self, x):\n",
        "        x = torch.flatten(x, 1)\n",
        "        x = sigmoid(self.fc1(x))\n",
        "        x = sigmoid(self.fc2(x))\n",
        "        x = self.fc3(x)\n",
        "        return x"
      ]
    },
    {
      "cell_type": "code",
      "execution_count": 4,
      "id": "4fcfbf79",
      "metadata": {
        "id": "4fcfbf79",
        "colab": {
          "base_uri": "https://localhost:8080/"
        },
        "outputId": "1587d0cf-8abf-46ec-d40a-de0b38aea117"
      },
      "outputs": [
        {
          "output_type": "stream",
          "name": "stdout",
          "text": [
            "Downloading http://yann.lecun.com/exdb/mnist/train-images-idx3-ubyte.gz\n",
            "Downloading http://yann.lecun.com/exdb/mnist/train-images-idx3-ubyte.gz to mnist_data/MNIST/raw/train-images-idx3-ubyte.gz\n"
          ]
        },
        {
          "output_type": "stream",
          "name": "stderr",
          "text": [
            "100%|██████████| 9912422/9912422 [00:00<00:00, 90472256.54it/s]\n"
          ]
        },
        {
          "output_type": "stream",
          "name": "stdout",
          "text": [
            "Extracting mnist_data/MNIST/raw/train-images-idx3-ubyte.gz to mnist_data/MNIST/raw\n",
            "\n",
            "Downloading http://yann.lecun.com/exdb/mnist/train-labels-idx1-ubyte.gz\n",
            "Downloading http://yann.lecun.com/exdb/mnist/train-labels-idx1-ubyte.gz to mnist_data/MNIST/raw/train-labels-idx1-ubyte.gz\n"
          ]
        },
        {
          "output_type": "stream",
          "name": "stderr",
          "text": [
            "100%|██████████| 28881/28881 [00:00<00:00, 105703048.71it/s]\n"
          ]
        },
        {
          "output_type": "stream",
          "name": "stdout",
          "text": [
            "Extracting mnist_data/MNIST/raw/train-labels-idx1-ubyte.gz to mnist_data/MNIST/raw\n",
            "\n",
            "Downloading http://yann.lecun.com/exdb/mnist/t10k-images-idx3-ubyte.gz\n",
            "Downloading http://yann.lecun.com/exdb/mnist/t10k-images-idx3-ubyte.gz to mnist_data/MNIST/raw/t10k-images-idx3-ubyte.gz\n"
          ]
        },
        {
          "output_type": "stream",
          "name": "stderr",
          "text": [
            "100%|██████████| 1648877/1648877 [00:00<00:00, 73037960.02it/s]"
          ]
        },
        {
          "output_type": "stream",
          "name": "stdout",
          "text": [
            "Extracting mnist_data/MNIST/raw/t10k-images-idx3-ubyte.gz to mnist_data/MNIST/raw\n"
          ]
        },
        {
          "output_type": "stream",
          "name": "stderr",
          "text": [
            "\n"
          ]
        },
        {
          "output_type": "stream",
          "name": "stdout",
          "text": [
            "\n",
            "Downloading http://yann.lecun.com/exdb/mnist/t10k-labels-idx1-ubyte.gz\n",
            "Downloading http://yann.lecun.com/exdb/mnist/t10k-labels-idx1-ubyte.gz to mnist_data/MNIST/raw/t10k-labels-idx1-ubyte.gz\n"
          ]
        },
        {
          "output_type": "stream",
          "name": "stderr",
          "text": [
            "100%|██████████| 4542/4542 [00:00<00:00, 17209149.75it/s]\n"
          ]
        },
        {
          "output_type": "stream",
          "name": "stdout",
          "text": [
            "Extracting mnist_data/MNIST/raw/t10k-labels-idx1-ubyte.gz to mnist_data/MNIST/raw\n",
            "\n"
          ]
        }
      ],
      "source": [
        "transform = transforms.Compose([transforms.ToTensor(),\n",
        "                                transforms.Normalize((0.1307,), (0.3081,))]) #mean, std of mnist dataset\n",
        "\n",
        "train_dataset = datasets.MNIST('mnist_data/', train=True, download=True, transform=transform)\n",
        "test_dataset = datasets.MNIST('mnist_data/', train=False, transform=transform)\n",
        "#data = datasets.MNIST('mnist_data/',download=True, transform=transform)\n",
        "#train_size = int(0.8 * len(data))\n",
        "#test_size = len(data) - train_size\n",
        "#train_dataset, test_dataset = torch.utils.data.random_split(data, [train_size, test_size])"
      ]
    },
    {
      "cell_type": "code",
      "execution_count": 5,
      "id": "a5d56816",
      "metadata": {
        "id": "a5d56816"
      },
      "outputs": [],
      "source": [
        "train_loader = torch.utils.data.DataLoader(train_dataset, batch_size=64, shuffle=True)\n",
        "test_loader = torch.utils.data.DataLoader(test_dataset, batch_size=64, shuffle=False)"
      ]
    },
    {
      "cell_type": "code",
      "execution_count": 18,
      "id": "06e18ad8",
      "metadata": {
        "id": "06e18ad8"
      },
      "outputs": [],
      "source": [
        "def train(model, learning_rate, num_epochs):\n",
        "    criterion = nn.CrossEntropyLoss()\n",
        "    optimizer = optim.SGD(model.parameters(), lr=learning_rate)\n",
        "\n",
        "    train_losses = []\n",
        "\n",
        "    for epoch in range(num_epochs):\n",
        "        model.train()\n",
        "        train_loss = 0.0\n",
        "        for images, labels in train_loader:\n",
        "            optimizer.zero_grad()\n",
        "            outputs = model(images)\n",
        "            loss = criterion(outputs, labels)\n",
        "            loss.backward()\n",
        "            optimizer.step()\n",
        "            train_loss += loss.item() * images.size(0)\n",
        "        train_loss /= len(train_loader.dataset)\n",
        "        train_losses.append(train_loss)\n",
        "\n",
        "        if (epoch + 1) % 10 == 0:\n",
        "            print(f'Epoch [{epoch+1}/{num_epochs}], Train Loss: {train_loss:.4f}')\n",
        "\n",
        "    return train_losses\n",
        "\n",
        "def test(model):\n",
        "    criterion = nn.CrossEntropyLoss()\n",
        "    model.eval()\n",
        "    test_loss = 0.0\n",
        "    correct = 0\n",
        "    predictions = []\n",
        "    true_labels = []\n",
        "\n",
        "    with torch.no_grad():\n",
        "        for images, labels in test_loader:\n",
        "            outputs = model(images)\n",
        "            loss = criterion(outputs, labels)\n",
        "            test_loss += loss.item() * images.size(0)\n",
        "            _, predicted = torch.max(outputs, 1)\n",
        "            correct += (predicted == labels).sum().item()\n",
        "            predictions.extend(predicted.tolist())\n",
        "            true_labels.extend(labels.tolist())\n",
        "\n",
        "        test_loss /= len(test_loader.dataset)\n",
        "        accuracy = correct / len(test_loader.dataset) * 100\n",
        "        #binary_true_labels = [1 if label > 0 else 0 for label in true_labels]\n",
        "        #binary_predictions = [1 if label > 0 else 0 for label in predictions]\n",
        "        #f1 = f1_score(binary_true_labels, binary_predictions)\n",
        "        #recall = recall_score(binary_true_labels, binary_predictions)\n",
        "\n",
        "        predictions_np = np.array(predictions)\n",
        "        true_labels_np = np.array(true_labels)\n",
        "        TP = ((predictions_np == 1) & (true_labels_np == 1)).sum()\n",
        "        FP = ((predictions_np == 1) & (true_labels_np == 0)).sum()\n",
        "        FN = ((predictions_np == 0) & (true_labels_np == 1)).sum()\n",
        "        precision = TP / (TP + FP)\n",
        "        recall = TP / (TP + FN)\n",
        "        f1_score = 2 * (precision * recall) / (precision + recall)\n",
        "        #outputs = torch.tensor(predictions)\n",
        "        #labels = torch.tensor(targets)\n",
        "\n",
        "        #mse = test_loss\n",
        "        #rmse = np.sqrt(mse)\n",
        "        #mae = torch.abs(outputs - labels).float().mean()\n",
        "        #mape = (torch.abs(outputs - labels) / labels).float().mean() * 100\n",
        "\n",
        "    #print(f'MSE: {mse:.4f}')\n",
        "    #print(f'RMSE: {rmse:.4f}')\n",
        "    #print(f'MAE: {mae:.4f}')\n",
        "    #print(f'MAPE: {mape:.2f}%')\n",
        "    print(f'Accuracy: {accuracy:.2f}%')\n",
        "    print(f\"F1 score: {f1_score:.2}%\")\n",
        "    print(f\"Recall: {recall:.2}%\")\n",
        "    return test_loss"
      ]
    },
    {
      "cell_type": "markdown",
      "source": [
        "## Different learning rates and loss graph"
      ],
      "metadata": {
        "id": "hcDCem4RhW2e"
      },
      "id": "hcDCem4RhW2e"
    },
    {
      "cell_type": "code",
      "execution_count": 11,
      "id": "516008b5",
      "metadata": {
        "colab": {
          "base_uri": "https://localhost:8080/",
          "height": 489
        },
        "id": "516008b5",
        "outputId": "5765539e-bc7a-41e4-8c7a-71b00db35bd4"
      },
      "outputs": [
        {
          "output_type": "stream",
          "name": "stdout",
          "text": [
            "Epoch [10/10], Train Loss: 2.3388\n"
          ]
        },
        {
          "output_type": "display_data",
          "data": {
            "text/plain": [
              "<Figure size 640x480 with 1 Axes>"
            ],
            "image/png": "[encoded data removed]"
          },
          "metadata": {}
        }
      ],
      "source": [
        "epochs = 10\n",
        "lr = 0.00001\n",
        "model1 = NeuralNetwork()\n",
        "#train(model1, lr, epochs)\n",
        "\n",
        "train_losses = train(model1, lr, epochs)\n",
        "\n",
        "plt.plot(range(1, epochs+1), train_losses, label=f'LR={lr}')\n",
        "plt.xlabel('Epoch')\n",
        "plt.ylabel('Loss')\n",
        "plt.title('Training Loss')\n",
        "plt.legend()\n",
        "plt.show()"
      ]
    },
    {
      "cell_type": "code",
      "execution_count": 12,
      "id": "0e5f7c05",
      "metadata": {
        "colab": {
          "base_uri": "https://localhost:8080/",
          "height": 489
        },
        "id": "0e5f7c05",
        "outputId": "874e5c00-0c6a-4cfa-bfc4-37d78196d052"
      },
      "outputs": [
        {
          "output_type": "stream",
          "name": "stdout",
          "text": [
            "Epoch [10/10], Train Loss: 0.1658\n"
          ]
        },
        {
          "output_type": "display_data",
          "data": {
            "text/plain": [
              "<Figure size 640x480 with 1 Axes>"
            ],
            "image/png": "[encoded data removed]"
          },
          "metadata": {}
        }
      ],
      "source": [
        "epochs = 10\n",
        "lr = 0.05\n",
        "model2 = NeuralNetwork()\n",
        "train_losses = train(model2, lr, epochs)\n",
        "\n",
        "plt.plot(range(1, epochs+1), train_losses, label=f'LR={lr}')\n",
        "plt.xlabel('Epoch')\n",
        "plt.ylabel('Loss')\n",
        "plt.title('Training Loss')\n",
        "plt.legend()\n",
        "plt.show()"
      ]
    },
    {
      "cell_type": "code",
      "source": [
        "epochs = 10\n",
        "lr = 3\n",
        "model3 = NeuralNetwork()\n",
        "train_losses = train(model3, lr, epochs)\n",
        "\n",
        "plt.plot(range(1, epochs+1), train_losses, label=f'LR={lr}')\n",
        "plt.xlabel('Epoch')\n",
        "plt.ylabel('Loss')\n",
        "plt.title('Training Loss')\n",
        "plt.legend()\n",
        "plt.show()"
      ],
      "metadata": {
        "colab": {
          "base_uri": "https://localhost:8080/",
          "height": 489
        },
        "id": "xWsQPothYogB",
        "outputId": "f265d1ec-fa39-464c-9d8c-ae07c6b4467d"
      },
      "id": "xWsQPothYogB",
      "execution_count": 13,
      "outputs": [
        {
          "output_type": "stream",
          "name": "stdout",
          "text": [
            "Epoch [10/10], Train Loss: nan\n"
          ]
        },
        {
          "output_type": "display_data",
          "data": {
            "text/plain": [
              "<Figure size 640x480 with 1 Axes>"
            ],
            "image/png": "[encoded data removed]"
          },
          "metadata": {}
        }
      ]
    },
    {
      "cell_type": "markdown",
      "source": [
        "## Split train/test=80/20 and compute accuracy, f1, recall\n"
      ],
      "metadata": {
        "id": "PZBPTLrnijsk"
      },
      "id": "PZBPTLrnijsk"
    },
    {
      "cell_type": "code",
      "source": [
        "train_dataset = datasets.MNIST('mnist_data/', train=True, download=True, transform=transform)\n",
        "test_dataset = datasets.MNIST('mnist_data/', train=False, transform=transform)\n",
        "#data = datasets.MNIST('mnist_data/',download=True, transform=transform)\n",
        "data = torch.utils.data.ConcatDataset([train_dataset, test_dataset])\n",
        "train_size = int(0.8 * len(data))\n",
        "test_size = len(data) - train_size\n",
        "train_dataset, test_dataset = torch.utils.data.random_split(data, [train_size, test_size])"
      ],
      "metadata": {
        "id": "lQL06w77itnd"
      },
      "id": "lQL06w77itnd",
      "execution_count": 14,
      "outputs": []
    },
    {
      "cell_type": "code",
      "source": [
        "train_loader = torch.utils.data.DataLoader(train_dataset, batch_size=64, shuffle=True)\n",
        "test_loader = torch.utils.data.DataLoader(test_dataset, batch_size=64, shuffle=False)"
      ],
      "metadata": {
        "id": "pR9NlX2lmM-T"
      },
      "id": "pR9NlX2lmM-T",
      "execution_count": 15,
      "outputs": []
    },
    {
      "cell_type": "code",
      "source": [
        "epochs = 10\n",
        "lr = 0.05\n",
        "model4 = NeuralNetwork()\n",
        "train_losses = train(model4, lr, epochs)\n",
        "\n",
        "plt.plot(range(1, epochs+1), train_losses, label=f'LR={lr}')\n",
        "plt.xlabel('Epoch')\n",
        "plt.ylabel('Loss')\n",
        "plt.title('Training Loss')\n",
        "plt.legend()\n",
        "plt.show()"
      ],
      "metadata": {
        "colab": {
          "base_uri": "https://localhost:8080/",
          "height": 489
        },
        "id": "u58xieVXmTkk",
        "outputId": "b48075d2-79a3-4593-e7b8-73b35779cc3f"
      },
      "id": "u58xieVXmTkk",
      "execution_count": 16,
      "outputs": [
        {
          "output_type": "stream",
          "name": "stdout",
          "text": [
            "Epoch [10/10], Train Loss: 0.1755\n"
          ]
        },
        {
          "output_type": "display_data",
          "data": {
            "text/plain": [
              "<Figure size 640x480 with 1 Axes>"
            ],
            "image/png": "[encoded data removed]"
          },
          "metadata": {}
        }
      ]
    },
    {
      "cell_type": "code",
      "source": [
        "test(model4)"
      ],
      "metadata": {
        "colab": {
          "base_uri": "https://localhost:8080/"
        },
        "id": "i59x_Z0WoZw1",
        "outputId": "f752bfe2-9841-4b12-972d-ee25a9bfb987"
      },
      "id": "i59x_Z0WoZw1",
      "execution_count": 19,
      "outputs": [
        {
          "output_type": "stream",
          "name": "stdout",
          "text": [
            "Accuracy: 94.47%\n",
            "F1 score: 1.0%\n",
            "Recall: 1.0%\n"
          ]
        },
        {
          "output_type": "execute_result",
          "data": {
            "text/plain": [
              "0.19067677983215878"
            ]
          },
          "metadata": {},
          "execution_count": 19
        }
      ]
    },
    {
      "cell_type": "markdown",
      "source": [
        "## Ex 3: Tại sao hàm softmax dùng exponential function? ![image.png](data:image/png;base64,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)"
      ],
      "metadata": {
        "id": "9YvzYEJWaz_K"
      },
      "id": "9YvzYEJWaz_K"
    },
    {
      "cell_type": "markdown",
      "source": [
        "- Hàm mũ trả ra các giá trị không âm và có tổng = 1.\n",
        "- Hàm mũ là hàm đồng biến.\n",
        "\n",
        "Vì a(i) thể hiện xác suất các input rơi vào class i và hàm exponential sẽ đảm bảo được các giá trị xác suất đều dương và có tổng bằng 1. Ngoài ra, hàm mũ đồng biến nên hàm softmax cũng đồng biến, đảm bảo được khi input tăng thì xác suất trả ra cũng tăng."
      ],
      "metadata": {
        "id": "XAbYk0oMdgx8"
      },
      "id": "XAbYk0oMdgx8"
    }
  ],
  "metadata": {
    "kernelspec": {
      "display_name": "Python 3 (ipykernel)",
      "language": "python",
      "name": "python3"
    },
    "language_info": {
      "codemirror_mode": {
        "name": "ipython",
        "version": 3
      },
      "file_extension": ".py",
      "mimetype": "text/x-python",
      "name": "python",
      "nbconvert_exporter": "python",
      "pygments_lexer": "ipython3",
      "version": "3.9.12"
    },
    "toc": {
      "base_numbering": 1,
      "nav_menu": {},
      "number_sections": true,
      "sideBar": true,
      "skip_h1_title": false,
      "title_cell": "Table of Contents",
      "title_sidebar": "Contents",
      "toc_cell": false,
      "toc_position": {},
      "toc_section_display": true,
      "toc_window_display": false
    },
    "varInspector": {
      "cols": {
        "lenName": 16,
        "lenType": 16,
        "lenVar": 40
      },
      "kernels_config": {
        "python": {
          "delete_cmd_postfix": "",
          "delete_cmd_prefix": "del ",
          "library": "var_list.py",
          "varRefreshCmd": "print(var_dic_list())"
        },
        "r": {
          "delete_cmd_postfix": ") ",
          "delete_cmd_prefix": "rm(",
          "library": "var_list.r",
          "varRefreshCmd": "cat(var_dic_list()) "
        }
      },
      "types_to_exclude": [
        "module",
        "function",
        "builtin_function_or_method",
        "instance",
        "_Feature"
      ],
      "window_display": false
    },
    "colab": {
      "provenance": []
    }
  },
  "nbformat": 4,
  "nbformat_minor": 5
}